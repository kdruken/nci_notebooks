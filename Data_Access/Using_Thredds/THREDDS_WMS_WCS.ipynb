{
 "cells": [
  {
   "cell_type": "markdown",
   "metadata": {},
   "source": [
    "# THREDDS Data Server: ncWMS and WCS\n",
    "### NetCDF Web Map Service (ncWMS) and Web Coverage Service (WCS) through NCI THREDDS\n",
    "**For more information on WMS and WCS standards specifications and ncWMS:** <br \\>\n",
    "http://www.opengeospatial.org/standards/wms <br \\>\n",
    "http://www.opengeospatial.org/standards/wcs <br \\>\n",
    "http://www.resc.rdg.ac.uk/trac/ncWMS/ <br \\>\n"
   ]
  },
  {
   "cell_type": "markdown",
   "metadata": {},
   "source": [
    "## 1. NetCDF Web Map Service (ncWMS)"
   ]
  },
  {
   "cell_type": "markdown",
   "metadata": {},
   "source": [
    "To extract data through the Web Map Service, a `GetMap` URL request needs to be constructed. \n",
    "\n",
    "\n",
    "**The request takes the following form:**\n",
    "\n",
    "> `http://dapds00.nci.org.au/thredds/wms/<thredds-path-to-data-file>?`\n",
    "<FONT COLOR=\"red\">service</FONT>=WCS& <br>\n",
    "<FONT COLOR=\"red\">version</FONT>=1.0.0& <br>\n",
    "<FONT COLOR=\"red\">request</FONT>=GetMap& <br>\n",
    "<FONT COLOR=\"red\">layers</FONT>=<FONT COLOR=\"#00cc99\">`<`value`>`</FONT>& <br>\n",
    "<FONT COLOR=\"red\">crs</FONT>=<FONT COLOR=\"#00cc99\">`<`value`>`</FONT>& <br>\n",
    "<FONT COLOR=\"red\">styles</FONT>=<FONT COLOR=\"#00cc99\">`<`value`>`</FONT>& <br>\n",
    "<FONT COLOR=\"red\">format</FONT>=<FONT COLOR=\"#00cc99\">`<`value`>`</FONT>& <br>\n",
    "<FONT COLOR=\"red\">bbox</FONT>=<FONT COLOR=\"#00cc99\">`<`value`>`</FONT>& <br>\n",
    "<FONT COLOR=\"red\">width</FONT>=<FONT COLOR=\"#00cc99\">`<`value`>`</FONT>& <br>\n",
    "<FONT COLOR=\"red\">height</FONT>=<FONT COLOR=\"#00cc99\">`<`value`>`</FONT>& <br>\n",
    "<FONT COLOR=\"blue\">colorscalerange</FONT>=<FONT COLOR=\"#00cc99\">`<`value`>`</FONT>& <br>\n",
    "<FONT COLOR=\"blue\">transparent</FONT>=<FONT COLOR=\"#00cc99\">`<`value`>`</FONT>& <br>\n",
    "<FONT COLOR=\"blue\">time</FONT>=<FONT COLOR=\"#00cc99\">`<`value`>`</FONT> <br>\n",
    "\n",
    "where <FONT COLOR=\"red\">red</FONT> indicates required fields, <FONT COLOR=\"blue\">blue</FONT> are optional, and <FONT COLOR=\"00cc99\">green</FONT> are where inputs values relevant to the dataset and user request need to be defined. \n",
    "\n"
   ]
  },
  {
   "cell_type": "markdown",
   "metadata": {},
   "source": [
    "##### GetMap parameters:\n",
    "\n",
    "|Parameter    |  Required/Optional  |  Input                                                            |\n",
    "|-------------|:-------------------:|------------------                                                 |\n",
    "|service      |     Required        |      WMS                                                          |\n",
    "|version      |     Required        |  `1.1.1**`, `1.3.0`                                               |\n",
    "|request      |     Required        | `GetMap`                                                          |\n",
    "|Layers       |     Required        | `<variable>`                                                      |\n",
    "|crs          |     Required        | `<crs_value>`                                                     |\n",
    "|styles       |     Required        | `<style_name>`                                                     |\n",
    "|format       |     Required        | `image/png `, `image/png;mode=32bit `, `image/gif `, `image/jpeg `|\n",
    "|bbox         |     Required        | `<ymin,xmin,ymax,xmax>`                                           |\n",
    "|width        |     Required        | Image width in pixels                                             |\n",
    "|height       |     Required        | Image height in pixels                                            |\n",
    "|colorscalerange |  Optional        | `<min,max>`                                                       |\n",
    "|transparent  |     Optional        | True, False                                                       |\n",
    "|time         |     Optional        | `<time_value>`                                                    |\n",
    "\n",
    "\n",
    "\n",
    "\n",
    "\n",
    "`**`**Syntax differences for v1.1.1 GetMap requests:**\n",
    "- Use `srs` in place of `crs`\n",
    "- The order of `bbox` values is: `<xmin,ymin,xmax,ymax>`"
   ]
  },
  {
   "cell_type": "markdown",
   "metadata": {},
   "source": [
    "### Navigate to the dataset THREDDS catalog page\n",
    "\n",
    "### Click on the WMS link\n",
    "\n",
    "<img src=\"./images/threddsWMS1.png\">\n",
    "\n",
    "\n",
    "### GetCapabilities \n",
    "\n",
    "This will display the WMS 'GetCapabilities' request in xml, which describes the WMS parameters (metadata, services, and data) available by the server. These options are used to generate a GetMap request, an operation which requests that the server generate a map. \n",
    "\n",
    "<img src=\"./images/threddsWMS2.png\">\n",
    "\n",
    "##### GetCapabilities example:\n",
    "\n",
    "[http://dapds00.nci.org.au/thredds/wms/rs0/tiles/EPSG3577/LS8_OLI_TIRS_NBAR/LS8_OLI_TIRS_NBAR_3577_-10_-28_2013.nc?<br/>\n",
    "service=WMS&<br/>\n",
    "version=1.3.0&<br/>\n",
    "request=GetCapabilities<br/>\n",
    "](http://dapds00.nci.org.au/thredds/wms/rs0/tiles/EPSG3577/LS8_OLI_TIRS_NBAR/LS8_OLI_TIRS_NBAR_3577_-10_-28_2013.nc?service=WMS&version=1.3.0&request=GetCapabilities)"
   ]
  },
  {
   "cell_type": "markdown",
   "metadata": {},
   "source": [
    "### GetMap\n",
    "\n",
    "\n",
    "#### Several WMS tools accept the GetCapabilities URL and allow users to interactively generate a GetMap request\n",
    "**Note:** This results in a map request built with the default settings, colormaps and scales (or time steps) may not be defined appropriately. \n",
    "\n",
    "<img src=\"./images/threddsWMS3.png\">\n",
    "\n",
    "\n",
    "#### The more explicit option is to directly build the full GetMap request using the information displayed in the GetCapabilities response (as above)\n",
    "\n",
    "\n",
    "<img src=\"./images/threddsWMS4.png\">\n",
    "\n",
    "\n",
    "##### GetMap request example:\n",
    "[http://dapds00.nci.org.au/thredds/wms/rs0/tiles/EPSG3577/LS8_OLI_TIRS_NBAR/LS8_OLI_TIRS_NBAR_3577_-10_-28_2013.nc?<br/>\n",
    "service=WMS&<br/>\n",
    "version=1.3.0&<br/>\n",
    "request=GetMap&<br/>\n",
    "Layers=band_2&<br/>\n",
    "crs=EPSG:4326&<br/>\n",
    "styles=boxfill/rainbow&<br/>\n",
    "format=image/png&<br/>\n",
    "colorscalerange=0,2000&<br/>\n",
    "bbox=-25.58404616639011,121.92340149978914,-24.62761795684223,122.99839880914949&<br/>\n",
    "width=1000&<br/>\n",
    "height=1000&<br/>\n",
    "transparent=true&<br/>\n",
    "time=2013-10-17T01:46:46.702Z<br/>\n",
    "](http://dapds00.nci.org.au/thredds/wms/rs0/tiles/EPSG3577/LS8_OLI_TIRS_NBAR/LS8_OLI_TIRS_NBAR_3577_-10_-28_2013.nc?service=WMS&version=1.3.0&request=GetMap&Layers=band_2&crs=EPSG:4326&styles=boxfill/rainbow&format=image/png&colorscalerange=0,2000&bbox=-25.58404616639011,121.92340149978914,-24.62761795684223,122.99839880914949&width=1000&height=1000&transparent=true&time=2013-10-17T01:46:46.702Z)\n",
    "\n",
    "\n",
    "#### The GetMap request can be tested by inserting the URL into a web browser:\n",
    "\n",
    "<img src=\"./images/threddsWMS5.png\" width=600>"
   ]
  },
  {
   "cell_type": "markdown",
   "metadata": {
    "collapsed": true
   },
   "source": [
    "#### Some known issues:\n",
    "- The `'time'` parameter is not supported in all tools and will only display data from the default time step specified in the GetCapabilities xml. "
   ]
  },
  {
   "cell_type": "markdown",
   "metadata": {},
   "source": [
    "## Web Coverage Service (WCS)"
   ]
  },
  {
   "cell_type": "markdown",
   "metadata": {},
   "source": [
    "To extract data through the Web Coverage Service, a `GetCoverage` URL request needs to be constructed. \n",
    "\n",
    "\n",
    "**The request takes the following form:**\n",
    "\n",
    "> `http://dapds00.nci.org.au/thredds/wcs/<thredds-path-to-data-file>?`<FONT COLOR=\"red\">service</FONT>=WCS&<FONT COLOR=\"red\">version</FONT>=1.0.0&<FONT COLOR=\"red\">request</FONT>=GetCoverage&<FONT COLOR=\"red\">coverage</FONT>=<FONT COLOR=\"#00cc99\">`<`value`>`</FONT>&<FONT COLOR=\"red\">format</FONT>=<FONT COLOR=\"#00cc99\">`<`value`>`</FONT>&<FONT COLOR=\"blue\">bbox</FONT>=<FONT COLOR=\"#00cc99\">`<`value`>`</FONT>&<FONT COLOR=\"blue\">time</FONT>=<FONT COLOR=\"#00cc99\">`<`value`>`</FONT>&<FONT COLOR=\"blue\">crs</FONT>=<FONT COLOR=\"#00cc99\">`<`value`>`</FONT>\n",
    "\n",
    "where <FONT COLOR=\"red\">red</FONT> indicates required fields, <FONT COLOR=\"blue\">blue</FONT> are optional, and <FONT COLOR=\"00cc99\">green</FONT> are where inputs values relevant to the dataset and user request need to be defined. "
   ]
  },
  {
   "cell_type": "markdown",
   "metadata": {},
   "source": [
    "**GetCoverage parameters:**\n",
    "\n",
    "|Parameter    |  Required/Optional  |  Input                                                            |\n",
    "|-------------|:-------------------:|------------------                                                 |\n",
    "|service      |     Required        |      WCS                                                          |\n",
    "|version      |     Required        |  `1.0.0`                                                          |\n",
    "|request      |     Required        | `GetCoverage`                                                     |\n",
    "|coverage     |     Required        | `<variable>`                                                      |\n",
    "|format       |     Required        | `GeoTIFF  `, `GeoTIFF_Float  `, `NetCDF3  `                       |\n",
    "|bbox`*`         |     Required/Optional        | `<xmin,ymin,xmax,ymax>`                                           |\n",
    "|time`*`         |     Required/Optional        | `<time_value>`                                                    |\n",
    "|srs, or crs  |     Optional        | `<srs_value>` or `<crs_value>`                                    |\n",
    "\n",
    "`*`For large files and/or files with a time dimension, these might be necessary. If `bbox` is not defined the entire spatial domain will be returned (if server limits allow) and if `time` is not specified, either the first or sometimes last timestep is returned. "
   ]
  },
  {
   "cell_type": "markdown",
   "metadata": {},
   "source": [
    "#### Once providing the appropriate values for the dataset, a URL can now be generated that will return the requested coverage (in this example the output is returned in the GeoTIFF format):\n",
    "(When selecting or inputing this URL into a web browser, a file download should commence.)\n",
    "\n",
    "> http://dapds00.nci.org.au/thredds/wcs/rs0/tiles/EPSG3577/LS8_OLI_TIRS_NBAR/LS8_OLI_TIRS_NBAR_3577_-10_-21_2013.nc?service=WCS&version=1.0.0&request=GetCoverage&coverage=band_2&format=GeoTIFF&time=2013-12-11T01:51:06.153Z\n",
    "\n",
    "<br></br>"
   ]
  },
  {
   "cell_type": "markdown",
   "metadata": {},
   "source": [
    "### Input options for WCS requests\n",
    "The available input options for the above paramaters can be found on THREDDS.\n",
    "\n",
    "#### Navigate to the dataset THREDDS catalog page\n",
    "\n",
    "##### Click on the WCS link\n",
    "\n",
    "<img src=\"./images/threddsWCS1.png\">\n",
    "\n",
    "\n",
    "##### GetCapabilities and DescribeCoverage\n",
    "\n",
    "The WCS link on NCI's THREDDS catalog page will retrieve a WCS 'GetCapabilities' request. This provides a list of the valid WCS operations and parameters, which can be helpful in constructing `GetCoverage` requests. If the `request=` option in the URL is changed to `DescribeCoverage`, additional information can be found. \n",
    "\n",
    "**GetCapabilities example:**\n",
    "\n",
    "[http://dapds00.nci.org.au/thredds/wcs/rs0/tiles/EPSG3577/LS8_OLI_TIRS_NBAR/LS8_OLI_TIRS_NBAR_3577_-10_-28_2013.nc?<br/>\n",
    "service=WCS&<br/>\n",
    "version=1.0.0&<br/>\n",
    "request=GetCapabilities](http://dapds00.nci.org.au/thredds/wcs/rs0/tiles/EPSG3577/LS8_OLI_TIRS_NBAR/LS8_OLI_TIRS_NBAR_3577_-10_-28_2013.nc?service=WCS&version=1.0.0&request=GetCapabilities)\n",
    "\n",
    "<img src=\"./images/threddsWCS2.png\">\n"
   ]
  },
  {
   "cell_type": "markdown",
   "metadata": {},
   "source": [
    "#### For a more complete description, the DescribeCoverage can be requested:\n",
    "\n",
    "**GetCapabilities example:**\n",
    "\n",
    "[http://dapds00.nci.org.au/thredds/wcs/rs0/tiles/EPSG3577/LS8_OLI_TIRS_NBAR/LS8_OLI_TIRS_NBAR_3577_-10_-28_2013.nc?<br/>\n",
    "service=WCS&<br/>\n",
    "version=1.0.0&<br/>\n",
    "request=DescribeCoverage<br/>\n",
    "](http://dapds00.nci.org.au/thredds/wcs/rs0/tiles/EPSG3577/LS8_OLI_TIRS_NBAR/LS8_OLI_TIRS_NBAR_3577_-10_-28_2013.nc?service=WCS&version=1.0.0&request=DescribeCoverage)\n",
    "\n"
   ]
  }
 ],
 "metadata": {
  "anaconda-cloud": {},
  "kernelspec": {
   "display_name": "Python [default]",
   "language": "python",
   "name": "python2"
  },
  "language_info": {
   "codemirror_mode": {
    "name": "ipython",
    "version": 2
   },
   "file_extension": ".py",
   "mimetype": "text/x-python",
   "name": "python",
   "nbconvert_exporter": "python",
   "pygments_lexer": "ipython2",
   "version": "2.7.12"
  }
 },
 "nbformat": 4,
 "nbformat_minor": 0
}
