{
 "cells": [
  {
   "cell_type": "markdown",
   "metadata": {},
   "source": [
    "Raijin/VDI: ‘module load gdal’ (Raijin=module load gdal/1.10.1.  The default is 2.0.0 which has an error. gdal/1.11.1 also has an error)\n",
    "\n",
    "\n",
    "GDAL-1\n",
    "Load gdal module:\n",
    "\t\n",
    "\t$ module load gdal/1.11.1\n",
    "\n",
    "From command line: \n",
    "\n",
    "$ gdalinfo <file> \n"
   ]
  },
  {
   "cell_type": "markdown",
   "metadata": {},
   "source": []
  }
 ],
 "metadata": {
  "kernelspec": {
   "display_name": "Python 2",
   "language": "python",
   "name": "python2"
  },
  "language_info": {
   "codemirror_mode": {
    "name": "ipython",
    "version": 2
   },
   "file_extension": ".py",
   "mimetype": "text/x-python",
   "name": "python",
   "nbconvert_exporter": "python",
   "pygments_lexer": "ipython2",
   "version": "2.7.11"
  }
 },
 "nbformat": 4,
 "nbformat_minor": 0
}
