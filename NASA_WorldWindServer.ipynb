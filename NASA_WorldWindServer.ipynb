{
 "cells": [
  {
   "cell_type": "markdown",
   "metadata": {},
   "source": [
    "# NASA Web World Wind Server\n",
    "#### NASA Web World Wind Server is a web tool for viewing WMS layers. For more information: https://webworldwind.org/about/\n",
    "\n",
    "#### NOTE:  This viewer allows users to load multiple layers from the WMS target file, and displays them with colour scales. However, there is no option to choose or modify colour palettes."
   ]
  },
  {
   "cell_type": "markdown",
   "metadata": {},
   "source": [
    "## To add WMS layers:\n",
    "\n",
    "\n",
    "### Go to the World Wind Server URL: \n",
    "\n",
    "http://worldwindserver.net/webworldwind/apps/Explorer.html\n",
    "\n",
    "<img src=\"./images/worldwind1.png\" width=800>\n",
    "\n",
    "### On the left side, in the ‘add new server’ box\n",
    "\n",
    "### Paste an WMS URL.\n",
    " \n",
    "**For example:**\n",
    "http://dapds00.nci.org.au/thredds/wms/ub8/au/FractCov/BS/FractCover.V3_0_1.2000.aust.005.BS.nc?service=WMS&version=1.3.0&request=GetCapabilities\n",
    "\n",
    "\n",
    "**Note:**\n",
    "- Web World Wind accepts the GetCapabilities but not the full GetMap request. \n",
    "- It also does not handle the time extent request ('&time='); If a GetCapabilities is for a file including time only the default time step will be displayed. \n",
    "- The default time slice, colormap, and color scale can not be modified. \n",
    "\n",
    "\n",
    "\n",
    "<img src=\"./images/worldwind2.png\" width=800>\n",
    "\n",
    "### A new server named ‘NCI THREDDS Server’ will appear below the default NASA EO server on the left side of the web page. It should also show a list of layers which exist in the WMS target file.\n",
    "\n",
    "<img src=\"./images/worldwind3.png\" width=800>\n",
    "\n",
    "\n",
    "### Select a layer and zoom to area of interest.\n",
    "\n",
    "<img src=\"./images/worldwind4.png\" width=800>"
   ]
  }
 ],
 "metadata": {
  "kernelspec": {
   "display_name": "Python 2",
   "language": "python",
   "name": "python2"
  },
  "language_info": {
   "codemirror_mode": {
    "name": "ipython",
    "version": 2
   },
   "file_extension": ".py",
   "mimetype": "text/x-python",
   "name": "python",
   "nbconvert_exporter": "python",
   "pygments_lexer": "ipython2",
   "version": "2.7.11"
  }
 },
 "nbformat": 4,
 "nbformat_minor": 0
}
