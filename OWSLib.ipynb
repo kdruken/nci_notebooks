{
 "cells": [
  {
   "cell_type": "markdown",
   "metadata": {},
   "source": [
    "# OWSlib"
   ]
  },
  {
   "cell_type": "markdown",
   "metadata": {},
   "source": [
    "## WMS"
   ]
  },
  {
   "cell_type": "code",
   "execution_count": null,
   "metadata": {
    "collapsed": true
   },
   "outputs": [],
   "source": [
    "import matplotlib.pyplot as plt\n",
    "from owslib.wms import WebMapService\n",
    "from PIL import Image\n",
    "%matplotlib inline"
   ]
  },
  {
   "cell_type": "code",
   "execution_count": null,
   "metadata": {
    "collapsed": true
   },
   "outputs": [],
   "source": [
    "link = 'http://dapds00.nci.org.au/thredds/wms/rs0/tiles/EPSG3577/LS5_TM_NBAR/LS5_TM_NBAR_3577_-6_-19_2006.nc'\n",
    "\n",
    "# wms = WebMapService(link, version='1.1.1')"
   ]
  },
  {
   "cell_type": "code",
   "execution_count": null,
   "metadata": {
    "collapsed": true
   },
   "outputs": [],
   "source": [
    "layers = list(wms.contents)\n",
    "for l in layers:\n",
    "    print \"WMS Layer: \", wms[l].name"
   ]
  },
  {
   "cell_type": "code",
   "execution_count": null,
   "metadata": {
    "collapsed": true
   },
   "outputs": [],
   "source": [
    "data = wms[layers[3]]\n",
    "print 'Name: ', data.name\n",
    "print 'Title: ', data.title"
   ]
  },
  {
   "cell_type": "code",
   "execution_count": null,
   "metadata": {
    "collapsed": true
   },
   "outputs": [],
   "source": [
    "print \"CRS Options: \"\n",
    "for item in data.crsOptions:\n",
    "    print '\\t', item \n",
    "    \n",
    "print \"Bounding Box: \"\n",
    "for item in data.boundingBox:\n",
    "    print '\\t', item"
   ]
  },
  {
   "cell_type": "code",
   "execution_count": null,
   "metadata": {
    "collapsed": true
   },
   "outputs": [],
   "source": [
    "data.timepositions[8]"
   ]
  },
  {
   "cell_type": "code",
   "execution_count": null,
   "metadata": {
    "collapsed": true
   },
   "outputs": [],
   "source": [
    "im = Image.open(pngfile)\n",
    "plt.imshow(im)"
   ]
  },
  {
   "cell_type": "code",
   "execution_count": null,
   "metadata": {
    "collapsed": true
   },
   "outputs": [],
   "source": [
    "img_grav = wms.getmap(layers=[data.name], \n",
    "                        styles=['boxfill/rainbow'],\n",
    "                        srs='EPSG:4326', \n",
    "                        bbox=(data.boundingBox[0], data.boundingBox[1], data.boundingBox[2], data.boundingBox[3]),\n",
    "                        size=(600, 600), \n",
    "                        format='image/png',\n",
    "                        colorscalerange='0,2000',\n",
    "                        time='2006-07-19T01:29:25.916Z'\n",
    "                        )\n",
    "\n",
    "#                         abovemaxcolor='transparent',\n",
    "#                         belowmincolor='transparent',"
   ]
  },
  {
   "cell_type": "code",
   "execution_count": null,
   "metadata": {
    "collapsed": true
   },
   "outputs": [],
   "source": [
    "pngfile = 'owslib_test_WMS.png'\n",
    "with open(pngfile, 'wb') as out:\n",
    "    out.write(img_grav.read())"
   ]
  },
  {
   "cell_type": "code",
   "execution_count": null,
   "metadata": {
    "collapsed": true
   },
   "outputs": [],
   "source": []
  },
  {
   "cell_type": "code",
   "execution_count": null,
   "metadata": {
    "collapsed": true
   },
   "outputs": [],
   "source": [
    "from owslib.wcs import WebCoverageService"
   ]
  },
  {
   "cell_type": "code",
   "execution_count": null,
   "metadata": {
    "collapsed": true
   },
   "outputs": [],
   "source": [
    "link = "
   ]
  },
  {
   "cell_type": "code",
   "execution_count": null,
   "metadata": {
    "collapsed": true
   },
   "outputs": [],
   "source": [
    "b2 = wcs['band_2']"
   ]
  },
  {
   "cell_type": "code",
   "execution_count": null,
   "metadata": {
    "collapsed": true
   },
   "outputs": [],
   "source": [
    "b2.title"
   ]
  },
  {
   "cell_type": "code",
   "execution_count": null,
   "metadata": {
    "collapsed": true
   },
   "outputs": [],
   "source": [
    "print(b2.boundingBox)\n",
    "print(b2.supportedFormats)\n",
    "print(b2.supportedCRS)\n",
    "print(b2.boundingBoxWGS84)"
   ]
  },
  {
   "cell_type": "code",
   "execution_count": null,
   "metadata": {
    "collapsed": true
   },
   "outputs": [],
   "source": [
    "output = wcs.getCoverage(identifier='band_2', \n",
    "                         bbox=(b2.boundingBoxWGS84[0], b2.boundingBoxWGS84[1], b2.boundingBoxWGS84[2], b2.boundingBoxWGS84[3]),\n",
    "                         format='GeoTIFF')"
   ]
  },
  {
   "cell_type": "code",
   "execution_count": null,
   "metadata": {
    "collapsed": true
   },
   "outputs": [],
   "source": [
    "filename = 'wcs_test.tiff'\n",
    "with open(filename, 'wb') as f:\n",
    "    f.write(output.read())"
   ]
  },
  {
   "cell_type": "code",
   "execution_count": null,
   "metadata": {
    "collapsed": true
   },
   "outputs": [],
   "source": []
  }
 ],
 "metadata": {
  "kernelspec": {
   "display_name": "Python 2",
   "language": "python",
   "name": "python2"
  },
  "language_info": {
   "codemirror_mode": {
    "name": "ipython",
    "version": 2
   },
   "file_extension": ".py",
   "mimetype": "text/x-python",
   "name": "python",
   "nbconvert_exporter": "python",
   "pygments_lexer": "ipython2",
   "version": "2.7.11"
  }
 },
 "nbformat": 4,
 "nbformat_minor": 0
}
