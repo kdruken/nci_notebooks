{
 "cells": [
  {
   "cell_type": "markdown",
   "metadata": {},
   "source": [
    "# ParaView\n",
    "[http://www.paraview.org/](http://www.paraview.org/) <br \\>\n",
    "\n",
    "**Tutorial Version:** 5.0.1  <br \\>\n",
    "**Available on Raijin:** 4.0.1, 4.1.0, 4.3.1"
   ]
  },
  {
   "cell_type": "markdown",
   "metadata": {},
   "source": [
    "## ParaView on Raijin\n",
    "\n",
    "[Raijin information for launching ParaView](https://usersupport.nci.org.au/software/nci_software_host.php?software=Paraview&host=raijin&site=ANU&from_site=ANU&version=all+versions&sub_version=&revision=&sid=4851&sep1=-&sep2=-&all_sites=)"
   ]
  },
  {
   "cell_type": "markdown",
   "metadata": {},
   "source": [
    "## ParaView Basics\n",
    "\n",
    "\n",
    "### Open ParaView\n",
    "\n",
    "<img src=\"./images/paraview1.png\">\n",
    "\n",
    "\n",
    "### From the 'File' menu, select 'Open' to load the NetCDF file\n",
    "\n",
    "<img src=\"./images/paraview2.png\" width=300>\n",
    "\n",
    "\n",
    "\n",
    "\n",
    "<img src=\"./images/paraview3.png\">\n",
    "\n",
    "\n",
    "### Click the 'eye' icon to the left of the dataset to make it visible\n",
    "\n",
    "<img src=\"./images/paraview4.png\">\n",
    "\n",
    "\n",
    "### Select a variable and timestep (if applicable)\n",
    "\n",
    "<img src=\"./images/paraview5.png\">\n",
    "\n",
    "\n",
    "### The 'Rescale' option will adjust the min/max colorscale options for any new timesteps displayed\n",
    "\n",
    "<img src=\"./images/paraview6.png\">\n",
    "\n",
    "\n",
    "### The 'Edit' option allows for customised colormap viewing options\n",
    "\n",
    "<img src=\"./images/paraview7.png\">\n",
    "\n",
    "\n",
    "### Specify a custom color range\n",
    "\n",
    "<img src=\"./images/paraview8.png\">\n",
    "\n",
    "### Resulting image\n",
    "\n",
    "<img src=\"./images/paraview9.png\">\n",
    "\n",
    "### To change the 'Below Range and 'Above Range' colorscale values, tick boxes and specify desired colors\n",
    "<img src=\"./images/paraview10.png\">"
   ]
  }
 ],
 "metadata": {
  "kernelspec": {
   "display_name": "Python 2",
   "language": "python",
   "name": "python2"
  },
  "language_info": {
   "codemirror_mode": {
    "name": "ipython",
    "version": 2
   },
   "file_extension": ".py",
   "mimetype": "text/x-python",
   "name": "python",
   "nbconvert_exporter": "python",
   "pygments_lexer": "ipython2",
   "version": "2.7.11"
  }
 },
 "nbformat": 4,
 "nbformat_minor": 0
}
