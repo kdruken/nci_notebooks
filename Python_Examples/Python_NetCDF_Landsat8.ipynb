{
 "cells": [
  {
   "cell_type": "markdown",
   "metadata": {},
   "source": [
    "# NCI Data Access: Python NetCDF Landsat8\n",
    "\n",
    "**The following will go through how to:** <br \\>\n",
    "   1. Access netCDF data locally from /g/data \n",
    "   2. Access published netCDF data through NCI's THREDDS Data Server (using OPeNDAP)\n",
    "   3. Extract/view data\n",
    "   4. Save data subset to new file\n"
   ]
  },
  {
   "cell_type": "markdown",
   "metadata": {},
   "source": [
    "### If working from Raijin or the VDI (Virtual Desktop Infrastructure), load the required modules\n",
    "\n",
    "```\n",
    "$ module load python/2.7.5 \n",
    "$ module load python/2.7.5-matplotlib\n",
    "\n",
    "```"
   ]
  },
  {
   "cell_type": "markdown",
   "metadata": {},
   "source": [
    "### Import python libraries\n",
    "\n",
    "There are several Python libraries available to work with netCDF and HDF file formats. This tutorial will use `netCDF4` but others, such as `h5py`, `cdms2`, and `gdal` can also be used. For more information on these other libraries, please see the main tutorial page. \n",
    "\n",
    "**Note:** Python's netCDF4 library has to be installed locally by user on Raijin and the VDI"
   ]
  },
  {
   "cell_type": "code",
   "execution_count": 1,
   "metadata": {
    "collapsed": false
   },
   "outputs": [],
   "source": [
    "from netCDF4 import Dataset\n",
    "import matplotlib.pyplot as plt \n",
    "%matplotlib inline"
   ]
  },
  {
   "cell_type": "markdown",
   "metadata": {},
   "source": [
    "## Open/read file\n",
    "**Note:** This does not yet load/extract any data, just opens the file.\n",
    "\n",
    "### The 'Dataset' function is used to open a file with Python's netCDF4 library. \n",
    "For local files, this will be the filepath (i.e., /g/data...) while for remote access, this will be the OPeNDAP data URL. For instructions on how to find the OPeNDAP URL, please see: [THREDDS Data Access](https://nbviewer.jupyter.org/github/kdruken/Notebooks/blob/master/THREDDS_DataAccess.ipynb)"
   ]
  },
  {
   "cell_type": "markdown",
   "metadata": {},
   "source": [
    "#### 1. Accessing data locally (/g/data) "
   ]
  },
  {
   "cell_type": "code",
   "execution_count": 2,
   "metadata": {
    "collapsed": false
   },
   "outputs": [],
   "source": [
    "path = '/g/data2/rs0/tiles/EPSG3577/LS8_OLI_TIRS_NBAR/LS8_OLI_TIRS_NBAR_3577_-10_-28_2013.nc'"
   ]
  },
  {
   "cell_type": "markdown",
   "metadata": {},
   "source": [
    "#### 2. Accessing data remotely (OPeNDAP)"
   ]
  },
  {
   "cell_type": "code",
   "execution_count": 3,
   "metadata": {
    "collapsed": true
   },
   "outputs": [],
   "source": [
    "url = 'http://dapds00.nci.org.au/thredds/dodsC/rs0/tiles/EPSG3577/LS8_OLI_TIRS_NBAR/LS8_OLI_TIRS_NBAR_3577_-10_-28_2013.nc'"
   ]
  },
  {
   "cell_type": "markdown",
   "metadata": {},
   "source": [
    "#### 3. Either the 'path' or the 'url' can be used now to open the file"
   ]
  },
  {
   "cell_type": "code",
   "execution_count": 4,
   "metadata": {
    "collapsed": false
   },
   "outputs": [
    {
     "ename": "RuntimeError",
     "evalue": "No such file or directory",
     "output_type": "error",
     "traceback": [
      "\u001b[0;31m---------------------------------------------------------------------------\u001b[0m",
      "\u001b[0;31mRuntimeError\u001b[0m                              Traceback (most recent call last)",
      "\u001b[0;32m<ipython-input-4-0ae2a6fd0ebb>\u001b[0m in \u001b[0;36m<module>\u001b[0;34m()\u001b[0m\n\u001b[0;32m----> 1\u001b[0;31m \u001b[0mf\u001b[0m \u001b[0;34m=\u001b[0m \u001b[0mDataset\u001b[0m\u001b[0;34m(\u001b[0m\u001b[0mpath\u001b[0m\u001b[0;34m,\u001b[0m \u001b[0;34m'r'\u001b[0m\u001b[0;34m)\u001b[0m\u001b[0;34m\u001b[0m\u001b[0m\n\u001b[0m",
      "\u001b[0;32mnetCDF4/_netCDF4.pyx\u001b[0m in \u001b[0;36mnetCDF4._netCDF4.Dataset.__init__ (netCDF4/_netCDF4.c:12271)\u001b[0;34m()\u001b[0m\n",
      "\u001b[0;31mRuntimeError\u001b[0m: No such file or directory"
     ]
    }
   ],
   "source": [
    "f = Dataset(path, 'r')"
   ]
  },
  {
   "cell_type": "code",
   "execution_count": null,
   "metadata": {
    "collapsed": false
   },
   "outputs": [],
   "source": [
    "# OR using the URL\n",
    "\n",
    "f = Dataset(url, 'r')"
   ]
  },
  {
   "cell_type": "markdown",
   "metadata": {},
   "source": [
    "#### After opening the file with the OPeNDAP address, the file can be handled in the same manner as a local file. "
   ]
  },
  {
   "cell_type": "markdown",
   "metadata": {},
   "source": [
    "## Browse information about the file"
   ]
  },
  {
   "cell_type": "markdown",
   "metadata": {},
   "source": [
    "### File dimensions"
   ]
  },
  {
   "cell_type": "code",
   "execution_count": null,
   "metadata": {
    "collapsed": false
   },
   "outputs": [],
   "source": [
    "for item in f.dimensions:\n",
    "    print f.dimensions[item].name, f.dimensions[item].size"
   ]
  },
  {
   "cell_type": "markdown",
   "metadata": {},
   "source": [
    "### File variables"
   ]
  },
  {
   "cell_type": "code",
   "execution_count": null,
   "metadata": {
    "collapsed": false
   },
   "outputs": [],
   "source": [
    "vars = f.variables.keys()\n",
    "for item in vars:\n",
    "    print 'Variable: \\t', item\n",
    "    print 'Dimensions: \\t', f[item].dimensions\n",
    "    print 'Shape:    \\t', f[item].shape, '\\n'"
   ]
  },
  {
   "cell_type": "markdown",
   "metadata": {},
   "source": [
    "## Extracting data (using index values)\n",
    "A nice feature of netCDF/HDF file formats is that you can extract subsets without having to read the entire file (or variable). The example below demonstrates the simplest subsetting example by directly specifying the subset indices. "
   ]
  },
  {
   "cell_type": "code",
   "execution_count": null,
   "metadata": {
    "collapsed": false
   },
   "outputs": [],
   "source": [
    "# Read variables (but not yet extract)\n",
    "band2 = f['band_2']\n",
    "y = f['y']\n",
    "x = f['x']\n",
    "t = f['time']"
   ]
  },
  {
   "cell_type": "code",
   "execution_count": null,
   "metadata": {
    "collapsed": false
   },
   "outputs": [],
   "source": [
    "# Subset indices\n",
    "x1, x2 = 1000,3999\n",
    "y1, y2 = 0,3000\n",
    "t1 = 9"
   ]
  },
  {
   "cell_type": "code",
   "execution_count": null,
   "metadata": {
    "collapsed": false
   },
   "outputs": [],
   "source": [
    "%%time\n",
    "\n",
    "# Extract\n",
    "band2_subset = band2[t1, y1:y2, x1:x2]\n",
    "y_subset = y[y1:y2]\n",
    "x_subset = x[x1:x2]"
   ]
  },
  {
   "cell_type": "markdown",
   "metadata": {},
   "source": [
    "## Plot data"
   ]
  },
  {
   "cell_type": "code",
   "execution_count": null,
   "metadata": {
    "collapsed": false
   },
   "outputs": [],
   "source": [
    "# Set figure size\n",
    "plt.figure(figsize=(12,6))\n",
    "\n",
    "# Plot data subset with equal axes and colorbar\n",
    "plt.contourf(x_subset, y_subset, band2_subset)\n",
    "plt.axis('equal')\n",
    "cbar = plt.colorbar()\n",
    "\n",
    "# Add figure title and labels\n",
    "# We can make use of the defined variable attributes to do this\n",
    "plt.title(band2.long_name+'\\n', fontsize=18)\n",
    "plt.xlabel(x.long_name+' ('+x.units+') ', fontsize=16)\n",
    "plt.ylabel(y.long_name+' ('+y.units+') ', fontsize=16)\n",
    "\n",
    "# Adjust tick mark size\n",
    "cbar.ax.tick_params(labelsize=16) \n",
    "plt.tick_params(labelsize=16)\n"
   ]
  },
  {
   "cell_type": "markdown",
   "metadata": {},
   "source": [
    "## Plot subset as RGB image\n",
    "For more info on common band combinations: http://landsat.usgs.gov/L8_band_combos.php"
   ]
  },
  {
   "cell_type": "markdown",
   "metadata": {},
   "source": [
    "#### Read in bands\n",
    "**Note**: Bands must be clipped (value of 6000 was chosen in this case) and scaled to values between (0, 255) to plot as RGB image."
   ]
  },
  {
   "cell_type": "code",
   "execution_count": null,
   "metadata": {
    "collapsed": true
   },
   "outputs": [],
   "source": [
    "import numpy as np"
   ]
  },
  {
   "cell_type": "code",
   "execution_count": null,
   "metadata": {
    "collapsed": true
   },
   "outputs": [],
   "source": [
    "band4_subset = f['band_4'][t1, y1:y2, x1:x2]\n",
    "band6_subset = f['band_6'][t1, y1:y2, x1:x2]\n",
    "band7_subset = f['band_7'][t1, y1:y2, x1:x2]"
   ]
  },
  {
   "cell_type": "code",
   "execution_count": null,
   "metadata": {
    "collapsed": true
   },
   "outputs": [],
   "source": [
    "b4 = band4_subset.clip(0, 6000) / 6000. * 255\n",
    "b6 = band6_subset.clip(0, 6000) / 6000. * 255\n",
    "b7 = band7_subset.clip(0, 6000) / 6000. * 255"
   ]
  },
  {
   "cell_type": "markdown",
   "metadata": {},
   "source": [
    "#### Combine the bands of interest into numpy NxNx3 dimensional array\n",
    "**Note**: The data type must be converted to 'uint8' to plot as image"
   ]
  },
  {
   "cell_type": "code",
   "execution_count": null,
   "metadata": {
    "collapsed": false
   },
   "outputs": [],
   "source": [
    "rgb = np.stack((b7, b6, b4), axis=2).astype('uint8')\n",
    "\n",
    "print \"New array shape: {0}, dtype: {1}\".format(rgb.shape, rgb.dtype)"
   ]
  },
  {
   "cell_type": "code",
   "execution_count": null,
   "metadata": {
    "collapsed": false
   },
   "outputs": [],
   "source": [
    "# Set figure size\n",
    "plt.figure(figsize=(12,12))\n",
    "\n",
    "# Plot image\n",
    "plt.imshow(rgb, extent=[x_subset[0], y_subset[-1], x_subset[-1], y_subset[0]])\n",
    "\n",
    "# Add figure title and labels\n",
    "# We can make use of the defined variable attributes to do this\n",
    "plt.title('Landsat 8 False Colour: Bands (7, 6, 4) \\n', fontsize=20)\n",
    "plt.xlabel(x.long_name+' ('+x.units+') ', fontsize=16)\n",
    "plt.ylabel(y.long_name+' ('+y.units+') ', fontsize=16)\n",
    "\n",
    "\n",
    "# Adjust tick mark size\n",
    "plt.tick_params(labelsize=16)"
   ]
  },
  {
   "cell_type": "markdown",
   "metadata": {},
   "source": [
    "## Save subset to new netCDF file\n",
    "\n",
    "If only using a small subset of a much larger dataset, it can sometimes be useful to save the subset to a new file for smoother use with other tools. "
   ]
  },
  {
   "cell_type": "markdown",
   "metadata": {},
   "source": [
    "**Note:** NCO (NetCDF Operators) tools provide a much simpler way of copying netCDF subsets to new files. For more  information using NCO: [NCO tutorial](https://nbviewer.jupyter.org/github/kdruken/Notebooks/blob/master/NCO.ipynb)"
   ]
  },
  {
   "cell_type": "markdown",
   "metadata": {},
   "source": [
    "#### Create and open new file"
   ]
  },
  {
   "cell_type": "code",
   "execution_count": null,
   "metadata": {
    "collapsed": false
   },
   "outputs": [],
   "source": [
    "new_nc = Dataset('new_file.nc', 'w')"
   ]
  },
  {
   "cell_type": "markdown",
   "metadata": {},
   "source": [
    "#### Create new dimensions"
   ]
  },
  {
   "cell_type": "code",
   "execution_count": null,
   "metadata": {
    "collapsed": false
   },
   "outputs": [],
   "source": [
    "xdim = new_nc.createDimension('x', len(x_subset))\n",
    "ydim = new_nc.createDimension('y', len(y_subset))\n",
    "tdim = new_nc.createDimension('t', f.dimensions['time'].size)"
   ]
  },
  {
   "cell_type": "markdown",
   "metadata": {},
   "source": [
    "#### Create new variables"
   ]
  },
  {
   "cell_type": "code",
   "execution_count": null,
   "metadata": {
    "collapsed": false
   },
   "outputs": [],
   "source": [
    "x_new = new_nc.createVariable('x', x.datatype, ('x',))\n",
    "y_new = new_nc.createVariable('y', y.datatype, ('y',))\n",
    "t_new = new_nc.createVariable('t', t.datatype, ('t',))\n",
    "\n",
    "ch02_new = new_nc.createVariable('channel_0002_brf', 'f8', ('t','y','x',))\n",
    "geo_new = new_nc.createVariable('geostationary', f['geostationary'].datatype, ())"
   ]
  },
  {
   "cell_type": "markdown",
   "metadata": {},
   "source": [
    "#### Write data from subset"
   ]
  },
  {
   "cell_type": "code",
   "execution_count": null,
   "metadata": {
    "collapsed": true
   },
   "outputs": [],
   "source": [
    "x_new[:] = x_subset\n",
    "y_new[:] = y_subset\n",
    "t_new[:] = t[:]\n",
    "ch02_new[:,:,:] = ch02_subset"
   ]
  },
  {
   "cell_type": "markdown",
   "metadata": {},
   "source": [
    "#### Copy metadata and variable attributes into new file"
   ]
  },
  {
   "cell_type": "code",
   "execution_count": null,
   "metadata": {
    "collapsed": false
   },
   "outputs": [],
   "source": [
    "# Global attributes\n",
    "for item, value in f.__dict__.items():\n",
    "    new_nc.__setattr__(item, value)"
   ]
  },
  {
   "cell_type": "code",
   "execution_count": null,
   "metadata": {
    "collapsed": false
   },
   "outputs": [],
   "source": [
    "# Variable attributes\n",
    "variables = [(t, t_new), (y, y_new), (x, x_new), (ch02, ch02_new), (f['geostationary'], geo_new)]\n",
    "\n",
    "for vold, vnew in variables:\n",
    "    for item, value in vold.__dict__.items():\n",
    "        # Special attributes that begin with '_' (e.g., _FillValue, _ChunkSize, etc.) \n",
    "        # need to be defined when first creating the variable, \n",
    "        # in this simple example these attributes are ignored\n",
    "        if not item.startswith('_'):\n",
    "            vnew.__setattr__(item, value)\n",
    "        "
   ]
  },
  {
   "cell_type": "markdown",
   "metadata": {},
   "source": [
    "#### Close file"
   ]
  },
  {
   "cell_type": "code",
   "execution_count": null,
   "metadata": {
    "collapsed": true
   },
   "outputs": [],
   "source": [
    "new_nc.close()"
   ]
  }
 ],
 "metadata": {
  "kernelspec": {
   "display_name": "Python 2",
   "language": "python",
   "name": "python2"
  },
  "language_info": {
   "codemirror_mode": {
    "name": "ipython",
    "version": 2
   },
   "file_extension": ".py",
   "mimetype": "text/x-python",
   "name": "python",
   "nbconvert_exporter": "python",
   "pygments_lexer": "ipython2",
   "version": "2.7.11"
  }
 },
 "nbformat": 4,
 "nbformat_minor": 0
}
