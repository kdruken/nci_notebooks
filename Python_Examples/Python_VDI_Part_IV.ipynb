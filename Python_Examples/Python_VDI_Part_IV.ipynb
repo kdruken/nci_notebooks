{
 "cells": [
  {
   "cell_type": "markdown",
   "metadata": {},
   "source": [
    "# Python on the VDI: Part IV\n",
    "## NetCDF Data\n",
    "\n",
    "\n",
    "**The following will go through how to:** <br \\>\n",
    "- Using iPython Notebooks with NetCDF data within the VDI. \n",
    "   \n",
    "\n",
    "<br>\n"
   ]
  },
  {
   "cell_type": "markdown",
   "metadata": {
    "collapsed": true
   },
   "source": [
    "### Launch the Jupyter Notebook application\n",
    "\n",
    "Load the required python modules and launch jupyter:\n",
    "\n",
    "    $ jupyter notebook\n",
    "   \n",
    "<div class=\"alert alert-info\">\n",
    "<b>NOTE: </b> For more information on setting up Jupyter on the VDI, see <b>Python on the VDI: III </b>. \n",
    "</div>\n",
    "\n",
    "<br>\n"
   ]
  },
  {
   "cell_type": "markdown",
   "metadata": {},
   "source": [
    "## Find some NetCDF data\n",
    "\n",
    "In this example, we will use a file from the Geoscience Australia Geophysics National Coverages Collection:\n",
    "\n",
    "    /g/data1/rr2/National_Coverages/magmap_v6_2015_VRTP/magmap_v6_2015_VRTP.nc\n",
    "    \n",
    "\n",
    "and we are going to compare direct vs. remote access. Timings (using the `%%time` magic function) will also be shown to help illustrate when it can be useful to conduct analysis on the filesystem."
   ]
  },
  {
   "cell_type": "markdown",
   "metadata": {},
   "source": [
    "#### Local path on /g/data"
   ]
  },
  {
   "cell_type": "code",
   "execution_count": 1,
   "metadata": {
    "collapsed": true
   },
   "outputs": [],
   "source": [
    "path = '/g/data1/rr2/National_Coverages/magmap_v6_2015_VRTP/magmap_v6_2015_VRTP.nc'"
   ]
  },
  {
   "cell_type": "markdown",
   "metadata": {},
   "source": [
    "#### OPeNDAP Data URL\n",
    "\n",
    "For more information on where to find OPeNDAP URL's, see:\n",
    "<a href=\"https://nbviewer.jupyter.org/github/nci/Notebooks/blob/master/Using_Thredds/THREDDS_DataAccess.ipynb\">THREDDS Data Server: Data Access</a>\n",
    "\n"
   ]
  },
  {
   "cell_type": "code",
   "execution_count": 2,
   "metadata": {
    "collapsed": true
   },
   "outputs": [],
   "source": [
    "url = 'http://dapds00.nci.org.au/thredds/dodsC/rr2/National_Coverages/magmap_v6_2015_VRTP/magmap_v6_2015_VRTP.nc'"
   ]
  },
  {
   "cell_type": "markdown",
   "metadata": {},
   "source": [
    "## Open files"
   ]
  },
  {
   "cell_type": "code",
   "execution_count": 3,
   "metadata": {
    "collapsed": true
   },
   "outputs": [],
   "source": [
    "from netCDF4 import Dataset"
   ]
  },
  {
   "cell_type": "code",
   "execution_count": null,
   "metadata": {
    "collapsed": true
   },
   "outputs": [],
   "source": [
    "%%time\n",
    "\n",
    "f1 = Dataset(path)"
   ]
  },
  {
   "cell_type": "code",
   "execution_count": 4,
   "metadata": {
    "collapsed": false
   },
   "outputs": [
    {
     "name": "stdout",
     "output_type": "stream",
     "text": [
      "CPU times: user 15.4 ms, sys: 23.5 ms, total: 38.8 ms\n",
      "Wall time: 2.15 s\n"
     ]
    }
   ],
   "source": [
    "%%time\n",
    "\n",
    "f2 = Dataset(url)"
   ]
  },
  {
   "cell_type": "markdown",
   "metadata": {},
   "source": [
    "## Extract a small subset"
   ]
  },
  {
   "cell_type": "markdown",
   "metadata": {},
   "source": [
    "#### File variables"
   ]
  },
  {
   "cell_type": "code",
   "execution_count": 8,
   "metadata": {
    "collapsed": false
   },
   "outputs": [
    {
     "name": "stdout",
     "output_type": "stream",
     "text": [
      "Variable: \tlat\n",
      "Dimensions: \t(u'lat',)\n",
      "Shape:    \t(41882,) \n",
      "\n",
      "Variable: \tlon\n",
      "Dimensions: \t(u'lon',)\n",
      "Shape:    \t(50591,) \n",
      "\n",
      "Variable: \tcrs\n",
      "Dimensions: \t(u'maxStrlen64',)\n",
      "Shape:    \t(64,) \n",
      "\n",
      "Variable: \tmag_tmi_rtp_anomaly\n",
      "Dimensions: \t(u'lat', u'lon')\n",
      "Shape:    \t(41882, 50591) \n",
      "\n"
     ]
    }
   ],
   "source": [
    "vars = f2.variables.keys()\n",
    "for item in vars:\n",
    "    print 'Variable: \\t', item\n",
    "    print 'Dimensions: \\t', f2[item].dimensions\n",
    "    print 'Shape:    \\t', f2[item].shape, '\\n'"
   ]
  },
  {
   "cell_type": "markdown",
   "metadata": {},
   "source": [
    "#### Extract: Remotely"
   ]
  },
  {
   "cell_type": "code",
   "execution_count": 9,
   "metadata": {
    "collapsed": false
   },
   "outputs": [
    {
     "name": "stdout",
     "output_type": "stream",
     "text": [
      "CPU times: user 114 ms, sys: 117 ms, total: 231 ms\n",
      "Wall time: 6.79 s\n"
     ]
    }
   ],
   "source": [
    "%%time\n",
    "\n",
    "lat = f2.variables['lat'][:1000]\n",
    "lon = f2.variables['lon'][:1000]\n",
    "\n",
    "mag = f2.variables['mag_tmi_rtp_anomaly'][:1000,:1000]"
   ]
  },
  {
   "cell_type": "markdown",
   "metadata": {},
   "source": [
    "#### Extract: Locally"
   ]
  },
  {
   "cell_type": "code",
   "execution_count": null,
   "metadata": {
    "collapsed": true
   },
   "outputs": [],
   "source": [
    "%%time\n",
    "\n",
    "lat = f1.variables['lat'][:1000]\n",
    "lon = f1.variables['lon'][:1000]\n",
    "\n",
    "mag = f1.variables['mag_tmi_rtp_anomaly'][:1000,:1000]"
   ]
  },
  {
   "cell_type": "markdown",
   "metadata": {},
   "source": [
    "## Extract the full file"
   ]
  },
  {
   "cell_type": "markdown",
   "metadata": {},
   "source": [
    "#### Extract: Remotely"
   ]
  },
  {
   "cell_type": "code",
   "execution_count": null,
   "metadata": {
    "collapsed": true
   },
   "outputs": [],
   "source": [
    "%%time\n",
    "\n",
    "lat = f2.variables['lat'][:]\n",
    "lon = f2.variables['lon'][:]\n",
    "\n",
    "mag = f2.variables['mag_tmi_rtp_anomaly'][:,:]"
   ]
  },
  {
   "cell_type": "markdown",
   "metadata": {},
   "source": [
    "#### Extract: Locally"
   ]
  },
  {
   "cell_type": "code",
   "execution_count": null,
   "metadata": {
    "collapsed": true
   },
   "outputs": [],
   "source": [
    "%%time\n",
    "\n",
    "lat = f1.variables['lat'][:]\n",
    "lon = f1.variables['lon'][:]\n",
    "\n",
    "mag = f1.variables['mag_tmi_rtp_anomaly'][:,:]"
   ]
  }
 ],
 "metadata": {
  "kernelspec": {
   "display_name": "Python 2",
   "language": "python",
   "name": "python2"
  },
  "language_info": {
   "codemirror_mode": {
    "name": "ipython",
    "version": 2
   },
   "file_extension": ".py",
   "mimetype": "text/x-python",
   "name": "python",
   "nbconvert_exporter": "python",
   "pygments_lexer": "ipython2",
   "version": "2.7.11"
  }
 },
 "nbformat": 4,
 "nbformat_minor": 0
}
