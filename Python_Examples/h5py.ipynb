{
 "cells": [
  {
   "cell_type": "markdown",
   "metadata": {},
   "source": [
    "## h5py with NetCDF \n",
    "**Python:** v2.7.5 <br />\n",
    "**h5py:** v2.5.0 <br />"
   ]
  },
  {
   "cell_type": "code",
   "execution_count": 1,
   "metadata": {
    "collapsed": true
   },
   "outputs": [],
   "source": [
    "import h5py"
   ]
  },
  {
   "cell_type": "code",
   "execution_count": 2,
   "metadata": {
    "collapsed": true
   },
   "outputs": [],
   "source": [
    "fn = '/Users/kdruken/Downloads/LS8_OLI_TIRS_NBAR_3577_-10_-28_2013.nc'"
   ]
  },
  {
   "cell_type": "code",
   "execution_count": 4,
   "metadata": {
    "collapsed": true
   },
   "outputs": [],
   "source": [
    "nc = h5py.File(fn)"
   ]
  },
  {
   "cell_type": "code",
   "execution_count": 8,
   "metadata": {
    "collapsed": false
   },
   "outputs": [
    {
     "name": "stdout",
     "output_type": "stream",
     "text": [
      "y                             : <HDF5 dataset \"y\": shape (4000,), type \"<f8\">\n",
      "band_6                        : <HDF5 dataset \"band_6\": shape (61, 4000, 4000), type \"<i2\">\n",
      "band_2                        : <HDF5 dataset \"band_2\": shape (61, 4000, 4000), type \"<i2\">\n",
      "time                          : <HDF5 dataset \"time\": shape (61,), type \"<f8\">\n",
      "extra_metadata_nchar          : <HDF5 dataset \"extra_metadata_nchar\": shape (30000,), type \">f4\">\n",
      "band_7                        : <HDF5 dataset \"band_7\": shape (61, 4000, 4000), type \"<i2\">\n",
      "band_5                        : <HDF5 dataset \"band_5\": shape (61, 4000, 4000), type \"<i2\">\n",
      "band_4                        : <HDF5 dataset \"band_4\": shape (61, 4000, 4000), type \"<i2\">\n",
      "band_1                        : <HDF5 dataset \"band_1\": shape (61, 4000, 4000), type \"<i2\">\n",
      "extra_metadata                : <HDF5 dataset \"extra_metadata\": shape (61, 30000), type \"|S1\">\n",
      "band_3                        : <HDF5 dataset \"band_3\": shape (61, 4000, 4000), type \"<i2\">\n",
      "crs                           : <HDF5 dataset \"crs\": shape (), type \"<i4\">\n",
      "x                             : <HDF5 dataset \"x\": shape (4000,), type \"<f8\">\n"
     ]
    }
   ],
   "source": [
    "for key, value in nc.items():\n",
    "    print \"{:30}: {}\".format(key, value)"
   ]
  },
  {
   "cell_type": "code",
   "execution_count": 16,
   "metadata": {
    "collapsed": false
   },
   "outputs": [
    {
     "name": "stdout",
     "output_type": "stream",
     "text": [
      "[<HDF5 dataset \"y\": shape (4000,), type \"<f8\">, <HDF5 dataset \"band_6\": shape (61, 4000, 4000), type \"<i2\">, <HDF5 dataset \"band_2\": shape (61, 4000, 4000), type \"<i2\">, <HDF5 dataset \"time\": shape (61,), type \"<f8\">, <HDF5 dataset \"extra_metadata_nchar\": shape (30000,), type \">f4\">, <HDF5 dataset \"band_7\": shape (61, 4000, 4000), type \"<i2\">, <HDF5 dataset \"band_5\": shape (61, 4000, 4000), type \"<i2\">, <HDF5 dataset \"band_4\": shape (61, 4000, 4000), type \"<i2\">, <HDF5 dataset \"band_1\": shape (61, 4000, 4000), type \"<i2\">, <HDF5 dataset \"extra_metadata\": shape (61, 30000), type \"|S1\">, <HDF5 dataset \"band_3\": shape (61, 4000, 4000), type \"<i2\">, <HDF5 dataset \"crs\": shape (), type \"<i4\">, <HDF5 dataset \"x\": shape (4000,), type \"<f8\">]\n"
     ]
    }
   ],
   "source": [
    "## Look at variables\n",
    "vars = f.variables.keys()\n",
    "for item in vars:\n",
    "    print 'Variable: \\t', item\n",
    "    print 'Dimensions: \\t', f[item].dimensions\n",
    "    print 'Shape:    \\t', f[item].shape, '\\n'"
   ]
  },
  {
   "cell_type": "code",
   "execution_count": 21,
   "metadata": {
    "collapsed": false
   },
   "outputs": [
    {
     "name": "stdout",
     "output_type": "stream",
     "text": [
      "geospatial_bounds\n",
      "geospatial_lon_min\n",
      "geospatial_lat_units\n",
      "geospatial_lon_units\n",
      "summary\n",
      "product_version\n",
      "geospatial_lat_max\n",
      "source\n",
      "title\n",
      "geospatial_lon_max\n",
      "Conventions\n",
      "history\n",
      "geospatial_bounds_crs\n",
      "geospatial_lat_min\n",
      "date_created\n",
      "license\n"
     ]
    }
   ],
   "source": [
    "for value in nc.attrs:\n",
    "    print value"
   ]
  },
  {
   "cell_type": "code",
   "execution_count": null,
   "metadata": {
    "collapsed": true
   },
   "outputs": [],
   "source": [
    "nc."
   ]
  },
  {
   "cell_type": "code",
   "execution_count": 9,
   "metadata": {
    "collapsed": true
   },
   "outputs": [],
   "source": [
    "band2 = nc['band_2'][0,:,:]"
   ]
  },
  {
   "cell_type": "code",
   "execution_count": null,
   "metadata": {
    "collapsed": true
   },
   "outputs": [],
   "source": []
  }
 ],
 "metadata": {
  "kernelspec": {
   "display_name": "Python 2",
   "language": "python",
   "name": "python2"
  },
  "language_info": {
   "codemirror_mode": {
    "name": "ipython",
    "version": 2
   },
   "file_extension": ".py",
   "mimetype": "text/x-python",
   "name": "python",
   "nbconvert_exporter": "python",
   "pygments_lexer": "ipython2",
   "version": "2.7.11"
  }
 },
 "nbformat": 4,
 "nbformat_minor": 0
}
