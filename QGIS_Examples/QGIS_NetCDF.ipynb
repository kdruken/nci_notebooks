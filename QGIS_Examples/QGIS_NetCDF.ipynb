{
 "cells": [
  {
   "cell_type": "markdown",
   "metadata": {},
   "source": [
    "# QGIS: Adding data from a NetCDF file\n",
    "**Versions:** 2.2.0 (available on NCI's VDI), 2.8.4"
   ]
  },
  {
   "cell_type": "markdown",
   "metadata": {},
   "source": [
    "## Load required libraries:\n",
    "\n",
    "```\n",
    "$ module load qgis/2.2.0 geos/3.4.2 proj/4.8.0 libspatialite/2.4.0 libspatialindex/1.6.1\n",
    "\n",
    "```\n",
    "\n",
    "This will also load some additional required libraries by default. Typing **``` module list ```** should show the following:\n",
    "\n",
    "```\n",
    "$ module list\n",
    "\n",
    "Currently Loaded Modulefiles:\n",
    "  1) qt4/4.8.5                  8) pyqt4/4.10.3-py2.7\n",
    "  2) qwt/6.0.2                  9) qgis/2.2.0\n",
    "  3) gdal/1.9.2                10) geos/3.4.2\n",
    "  4) python/2.7.5              11) proj/4.8.0\n",
    "  5) python/2.7.5-matplotlib   12) libspatialite/2.4.0\n",
    "  6) sip/4.15.4-py2.7          13) libspatialindex/1.6.1\n",
    "  7) dbus-python/0.84.0-py2.7\n",
    "```\n",
    "\n"
   ]
  },
  {
   "cell_type": "markdown",
   "metadata": {},
   "source": [
    "## Launch QGIS:\n",
    "```\n",
    "$ qgis &\n",
    "```"
   ]
  },
  {
   "cell_type": "markdown",
   "metadata": {},
   "source": [
    "## 1. Adding NetCDF content as a normal raster layer\n",
    "\n",
    "### Select the **\"Add Raster Layer\"** icon on the left vertical panel \n",
    "Or alternatively from the **Layer --> Add Layer --> Add Raster Layer** in the top menu bar.\n",
    "\n",
    "<img src=\"./images/qgisN1.png\">\n",
    "\n",
    "### Load the netCDF file and select the desired variable:\n",
    "\n",
    "<img src=\"./images/qgisN2.png\" width=500>\n",
    "\n",
    "\n",
    "### Right-click on the layer\n",
    "<img src=\"./images/qgisN3.png\">\n",
    "\n",
    "### Select the 'Properties' options from menu that displays\n",
    "\n",
    "<img src=\"./images/qgisN4.png\" width=300>\n",
    "\n",
    "### Select 'Style' from the left-hand panel\n",
    "\n",
    "<img src=\"./images/qgisN5.png\">\n",
    "\n",
    "### Next to the 'Band' field, select the time step to view\n",
    "**Note:** This 'Band' field is displaying time in the case of this example.\n",
    "\n",
    "<img src=\"./images/qgisN6.png\">\n",
    "\n",
    "### Now define the colormapping options\n",
    "1. Select a colormap\n",
    "2. Enter min/max values (or these with the options below the colormap section)\n",
    "3. Click 'Classify'\n",
    "4. Click 'OK' (or 'Apply' to keep this window open)\n",
    "\n",
    "<img src=\"./images/qgisN7.png\">\n",
    "\n",
    "### Layer should now display \n",
    "\n",
    "<img src=\"./images/qgisN8.png\">"
   ]
  },
  {
   "cell_type": "markdown",
   "metadata": {
    "collapsed": true
   },
   "source": [
    "## 2. Adding content with the \"NetCDF Browser\" plugin \n",
    "\n",
    "### NetCDF Browser is a QGIS plugin. To add the plugin, on the top menu go to:\n",
    "\n",
    "`Plugins > Manage and Install Plugins...`\n",
    "\n",
    "<img src=\"./images/qgisN9a.png\" width=400>\n",
    "\n",
    "### In the Search bar, type 'netcdf' and the NetCDF Browser should display as a result\n",
    "\n",
    "<img src=\"./images/qgisN9b.png\">\n",
    "\n",
    "\n",
    "### Select NetCDF Browser and install\n",
    "\n",
    "### Back in the main window a icon for the browser should now appear\n",
    "\n",
    "<img src=\"./images/qgisN10.png\">\n",
    "\n",
    "\n",
    "### To load a layer from a netCDF file, click on the NetCDF Browser icon and select the file\n",
    "\n",
    "### A new window will be displayed where the variable and dimensions can be specified\n",
    "\n",
    "<img src=\"./images/qgisN11.png\">\n",
    "\n",
    "### After clicking the 'Add selection' button (pictured above), the selected data should now display as a new layer\n",
    "### Proceed as above by right-clicking on the layer to modify the colormap and other properties settings\n",
    "\n",
    "<img src=\"./images/qgisN12.png\">"
   ]
  }
 ],
 "metadata": {
  "kernelspec": {
   "display_name": "Python 2",
   "language": "python",
   "name": "python2"
  },
  "language_info": {
   "codemirror_mode": {
    "name": "ipython",
    "version": 2
   },
   "file_extension": ".py",
   "mimetype": "text/x-python",
   "name": "python",
   "nbconvert_exporter": "python",
   "pygments_lexer": "ipython2",
   "version": "2.7.11"
  }
 },
 "nbformat": 4,
 "nbformat_minor": 0
}
