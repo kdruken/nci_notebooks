{
 "cells": [
  {
   "cell_type": "markdown",
   "metadata": {},
   "source": [
    "# QGIS: Adding ncWMS layer\n",
    "**Versions:** 2.2.0 (available on NCI's VDI), 2.8.4"
   ]
  },
  {
   "cell_type": "markdown",
   "metadata": {},
   "source": [
    "### Load required libraries:\n",
    "\n",
    "```\n",
    "$ module load qgis/2.2.0 geos/3.4.2 proj/4.8.0 libspatialite/2.4.0 libspatialindex/1.6.1\n",
    "\n",
    "```\n",
    "\n",
    "This will also load some additional required libraries by default. Typing **``` module list ```** should show the following:\n",
    "\n",
    "```\n",
    "$ module list\n",
    "\n",
    "Currently Loaded Modulefiles:\n",
    "  1) qt4/4.8.5                  8) pyqt4/4.10.3-py2.7\n",
    "  2) qwt/6.0.2                  9) qgis/2.2.0\n",
    "  3) gdal/1.9.2                10) geos/3.4.2\n",
    "  4) python/2.7.5              11) proj/4.8.0\n",
    "  5) python/2.7.5-matplotlib   12) libspatialite/2.4.0\n",
    "  6) sip/4.15.4-py2.7          13) libspatialindex/1.6.1\n",
    "  7) dbus-python/0.84.0-py2.7\n",
    "```\n",
    "\n"
   ]
  },
  {
   "cell_type": "markdown",
   "metadata": {},
   "source": [
    "### Launch QGIS:\n",
    "```\n",
    "$ qgis &\n",
    "```\n"
   ]
  },
  {
   "cell_type": "markdown",
   "metadata": {},
   "source": [
    "### Select the **Add WMS/WMTS** icon on the left vertical panel \n",
    "Or alternatively from the **Layer --> Add Layer --> Add WMS/WMTS Layer** in the top menu bar.\n",
    "\n",
    "<img src=\"./images/qgis2.png\">\n",
    "``` ```"
   ]
  },
  {
   "cell_type": "markdown",
   "metadata": {},
   "source": [
    "### Create a new WMS layer (or edit an existing one) by selecting 'New' or 'Edit'\n",
    "\n",
    "<img src=\"./images/qgis3.png\">\n",
    "``` ```"
   ]
  },
  {
   "cell_type": "markdown",
   "metadata": {},
   "source": [
    "### Enter a name and WMS GetMap request in the provided fields\n",
    "\n",
    "**Note:** If the GetCapabilities request is entered, QGIS will receive the default GetMap parameters which may result in the wrong color scale range and/or an issue with requesting time slices. It is recommended that the full GetMap request is entered to avoid these. \n",
    "\n",
    "<img src=\"./images/qgis4.png\">\n",
    "``` ```"
   ]
  },
  {
   "cell_type": "markdown",
   "metadata": {},
   "source": [
    "### Click 'Connect'\n",
    "\n",
    "<img src=\"./images/qgis5.png\">\n"
   ]
  },
  {
   "cell_type": "markdown",
   "metadata": {},
   "source": [
    "### Select the layer\n",
    "\n",
    "**Note:** Selecting this top-level option will display the specified style requested with the GetMap, however if you expand this the other available color palettes are available to choose from. \n",
    "\n",
    "<img src=\"./images/qgis5b.png\">\n",
    "\n",
    "<img src=\"./images/qgis6.png\">\n"
   ]
  },
  {
   "cell_type": "markdown",
   "metadata": {},
   "source": [
    "### After deciding on the palette, click 'Add' to add the layer\n",
    "The layer should now display. \n",
    "\n",
    "<img src=\"./images/qgis7.png\">"
   ]
  }
 ],
 "metadata": {
  "kernelspec": {
   "display_name": "Python 2",
   "language": "python",
   "name": "python2"
  },
  "language_info": {
   "codemirror_mode": {
    "name": "ipython",
    "version": 2
   },
   "file_extension": ".py",
   "mimetype": "text/x-python",
   "name": "python",
   "nbconvert_exporter": "python",
   "pygments_lexer": "ipython2",
   "version": "2.7.11"
  }
 },
 "nbformat": 4,
 "nbformat_minor": 0
}
