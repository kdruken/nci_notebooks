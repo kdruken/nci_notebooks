{
 "cells": [
  {
   "cell_type": "markdown",
   "metadata": {},
   "source": [
    "<img src=\"http://nci.org.au/wp-content/themes/nci/img/img-logo-large.png\", width=400>\n",
    "\n",
    "---------\n",
    "\n",
    "# THREDDS Data Server: Netcdf Subset Service (NCSS)\n",
    "\n",
    "\n",
    "\n",
    "### In this notebook:\n",
    "\n",
    "- <a href='#part1'>Using THREDDS Web Coverage Service to request GeoTIFF data</a>\n",
    "\n",
    "\n",
    "#### The following material uses Geoscience Australia's Landsat 8 Data Collection which is available under the Create Commons License 4.0 through NCI's THREDDS Data Server. For more information on the collection and licensing, please [click here](http://geonetwork.nci.org.au/geonetwork/srv/eng/catalog.search#/metadata/f6600_8228_7170_1486). \n",
    "\n",
    "---------\n",
    "\n",
    "<br>\n",
    "\n"
   ]
  },
  {
   "cell_type": "markdown",
   "metadata": {},
   "source": [
    "-----\n",
    "\n",
    "1. <a href='#part1'>Interactively through THREDDS</a>\n",
    "    \n",
    "\n",
    "#### The following material uses Geoscience Australia's Landsat 8 Data Collection which is available under the Create Commons License 4.0 through NCI's THREDDS Data Server. For more information on the collection and licensing, please [click here](http://geonetwork.nci.org.au/geonetwork/srv/eng/catalog.search#/metadata/f6600_8228_7170_1486). \n",
    "\n",
    "---------\n",
    "\n",
    "<br>"
   ]
  },
  {
   "cell_type": "markdown",
   "metadata": {},
   "source": [
    "## THREDDS Netcdf Subset Service (NCSS)\n",
    "\n",
    "The Netcdf Subset Service (NCSS) is one of the data service endpoints available on many of NCI's hosted data collections. NCSS is currently available on NCI's gridded datasets and allows users to request spatial and temporal queries using longitude and latitude values directly. "
   ]
  },
  {
   "cell_type": "markdown",
   "metadata": {},
   "source": [
    "<a id='part1'></a> \n",
    "### Using Netcdf Subset interactively through THREDDS"
   ]
  },
  {
   "cell_type": "markdown",
   "metadata": {},
   "source": [
    "#### Begin by navigating to the THREDDS catalog page for the selected data file: \n",
    "\n",
    "<img src=\"./images/ncss1.png\">\n",
    "\n",
    "\n",
    "#### Next, decide whether you want to extract a spatial subset (left/pink arrow), defined by a bounding box, or a single point in space (right/green arrow), defined by a single latitude and longitude:\n",
    "<img src=\"./images/ncss2.png\">\n",
    "\n",
    "#### Then proceed by selecting the desired variables, spatial (or lat/lon point) and temporal extents. As selections are made, the NCSS Request URL (near bottom of the page) will update with these parameters. \n",
    "\n",
    "<img src=\"./images/ncss3.png\">\n",
    "\n",
    "\n",
    "#### Click 'Submit' and the request file should begin to download. Alternatively, the NCSS URL can be copied/pasted into a new web browser or used in workflows along with `wget` or `curl` commands. \n",
    "\n",
    "\n",
    "**Examples of different NCSS Request URLs:**\n",
    "\n",
    ">http://dapds00.nci.org.au/thredds/ncss/rs0/tiles/EPSG3577/LS8_OLI_TIRS_NBAR/LS8_OLI_TIRS_NBAR_3577_-10_-21_2013.nc?req=station&var=band_2&var=band_4&latitude=-19&longitude=122.5&temporal=all&accept=netCDF\n",
    "\n",
    ">http://dapds00.nci.org.au/thredds/ncss/rs0/tiles/EPSG3577/LS8_OLI_TIRS_NBAR/LS8_OLI_TIRS_NBAR_3577_-10_-21_2013.nc?var=band_4&var=band_6&var=band_7&latitude=-18.8&longitude=123&temporal=all&accept=csv\n",
    "\n",
    "\n",
    "<br>\n",
    "<br>\n",
    "<br>"
   ]
  }
 ],
 "metadata": {
  "anaconda-cloud": {},
  "kernelspec": {
   "display_name": "Python [conda env:mypy2]",
   "language": "python",
   "name": "conda-env-mypy2-py"
  },
  "language_info": {
   "codemirror_mode": {
    "name": "ipython",
    "version": 2
   },
   "file_extension": ".py",
   "mimetype": "text/x-python",
   "name": "python",
   "nbconvert_exporter": "python",
   "pygments_lexer": "ipython2",
   "version": "2.7.12"
  }
 },
 "nbformat": 4,
 "nbformat_minor": 1
}
