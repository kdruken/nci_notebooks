{
 "cells": [
  {
   "cell_type": "markdown",
   "metadata": {},
   "source": [
    "<img src=\"http://nci.org.au/wp-content/themes/nci/img/img-logo-large.png\", width=400>\n",
    "\n",
    "-------\n",
    "\n",
    "# Web Map Service (WMS)\n",
    "## Requesting map images through NCI's THREDDS Data Server\n",
    "\n",
    "\n",
    "\n",
    "### In this notebook:\n",
    "\n",
    "#### How to use the Open Geospatial Consortium (OGC) Web Map Service (WMS) protocol through NCI's THREDDS data server\n",
    "- <a href='#wms'> Web Map Service (WMS) \n",
    "    - <a href='#wms_example'> Basic WMS example\n",
    "    - <a href='#wms_getmap'> Constructing GetMap Requests\n",
    "    \n",
    "    \n",
    "\n",
    "#### The following material uses Geoscience Australia's Landsat 8 Data Collection which is available under the Create Commons License 4.0 through NCI's THREDDS Data Server. For more information on the collection and licensing, please [click here](http://geonetwork.nci.org.au/geonetwork/srv/eng/catalog.search#/metadata/f6600_8228_7170_1486). \n",
    "\n",
    "---------\n",
    "\n",
    "<br>\n"
   ]
  },
  {
   "cell_type": "markdown",
   "metadata": {},
   "source": [
    "<a id='wms'></a> \n",
    "## NetCDF Web Map Service (ncWMS)"
   ]
  },
  {
   "cell_type": "markdown",
   "metadata": {},
   "source": [
    "NCI's THREDDS Data Server supports OGC's Web Map Service (WMS) for gridded data collections, which is a standard protocol for serving geospatial data as images (e.g., PNG, JPEG).   "
   ]
  },
  {
   "cell_type": "markdown",
   "metadata": {},
   "source": [
    "### Navigate to the dataset THREDDS catalog page and select the WMS link\n",
    "\n",
    "<img src=\"./images/threddsWMS1.png\">\n"
   ]
  },
  {
   "cell_type": "markdown",
   "metadata": {},
   "source": [
    "### GetCapabilities \n",
    "\n",
    "This will display the WMS 'GetCapabilities' request in xml, which describes the WMS parameters (metadata, services, and data) available by the server. These options are used to generate a GetMap request, an operation which requests that the server generate a map. \n",
    "\n",
    "<img src=\"./images/threddsWMS2.png\">\n",
    "\n",
    "> **GetCapabilities example:**\n",
    "\n",
    "> [http://dapds00.nci.org.au/thredds/wms/rs0/tiles/EPSG3577/LS8_OLI_TIRS_NBAR/LS8_OLI_TIRS_NBAR_3577_-10_-28_2013.nc?<br/>\n",
    "service=WMS&<br/>\n",
    "version=1.3.0&<br/>\n",
    "request=GetCapabilities<br/>\n",
    "](http://dapds00.nci.org.au/thredds/wms/rs0/tiles/EPSG3577/LS8_OLI_TIRS_NBAR/LS8_OLI_TIRS_NBAR_3577_-10_-28_2013.nc?service=WMS&version=1.3.0&request=GetCapabilities)"
   ]
  },
  {
   "cell_type": "markdown",
   "metadata": {},
   "source": [
    "<a id='wms_example'></a> \n",
    "### Simple WMS Example\n",
    "\n",
    "#### Several WMS tools accept the GetCapabilities URL and allow users to interactively generate a GetMap request\n",
    "\n",
    "This `GetCapabilities` URL can be used to load data as an image overlay in several tools, such as [Google Earth](https://www.google.com/earth/) and [QGIS](http://www.qgis.org/en/site/), as well as with interactive spatial data websites like Australia's [NationalMap](https://nationalmap.gov.au/) (example below).   \n",
    "\n",
    "**Note:** This results in a map request built with the default settings. Colourmaps, colour scales, and time (if applicable) may not always be defined appropriately. In such cases, full `GetMap` requests will need to be requested (more on these below). \n",
    "\n",
    "\n",
    "\n",
    "\n",
    "#### 1. Begin by copying the `GetCapabilities` URL from THREDDS\n",
    "\n",
    "<img src=\"./images/threddsWMS3.png\">\n",
    "\n",
    "- Add annotated screenshots!"
   ]
  },
  {
   "cell_type": "markdown",
   "metadata": {},
   "source": [
    "<a id='wms_getmap'></a> \n",
    "### Constructing GetMap Requests\n",
    "\n",
    "Tools like those mentioned above can often request data on the fly to generate the maps but if you would like to directly download your own map directly, a full `GetMap` URL needs to be constructed. \n",
    "\n",
    "\n",
    "**The request takes the following form:**\n",
    "\n",
    "> `http://dapds00.nci.org.au/thredds/wms/<thredds-path-to-data-file>?`\n",
    "<FONT COLOR=\"red\">service</FONT>=WCS& <br>\n",
    "<FONT COLOR=\"red\">version</FONT>=1.0.0& <br>\n",
    "<FONT COLOR=\"red\">request</FONT>=GetMap& <br>\n",
    "<FONT COLOR=\"red\">layers</FONT>=<FONT COLOR=\"#00cc99\">`<`value`>`</FONT>& <br>\n",
    "<FONT COLOR=\"red\">crs</FONT>=<FONT COLOR=\"#00cc99\">`<`value`>`</FONT>& <br>\n",
    "<FONT COLOR=\"red\">styles</FONT>=<FONT COLOR=\"#00cc99\">`<`value`>`</FONT>& <br>\n",
    "<FONT COLOR=\"red\">format</FONT>=<FONT COLOR=\"#00cc99\">`<`value`>`</FONT>& <br>\n",
    "<FONT COLOR=\"red\">bbox</FONT>=<FONT COLOR=\"#00cc99\">`<`value`>`</FONT>& <br>\n",
    "<FONT COLOR=\"red\">width</FONT>=<FONT COLOR=\"#00cc99\">`<`value`>`</FONT>& <br>\n",
    "<FONT COLOR=\"red\">height</FONT>=<FONT COLOR=\"#00cc99\">`<`value`>`</FONT>& <br>\n",
    "<FONT COLOR=\"blue\">colorscalerange</FONT>=<FONT COLOR=\"#00cc99\">`<`value`>`</FONT>& <br>\n",
    "<FONT COLOR=\"blue\">transparent</FONT>=<FONT COLOR=\"#00cc99\">`<`value`>`</FONT>& <br>\n",
    "<FONT COLOR=\"blue\">time</FONT>=<FONT COLOR=\"#00cc99\">`<`value`>`</FONT> <br>\n",
    "\n",
    "where <FONT COLOR=\"red\">red</FONT> indicates required fields, <FONT COLOR=\"blue\">blue</FONT> are optional, and <FONT COLOR=\"00cc99\">green</FONT> are where inputs values relevant to the dataset and user request need to be defined. \n"
   ]
  },
  {
   "cell_type": "markdown",
   "metadata": {},
   "source": [
    "##### GetMap parameters:\n",
    "\n",
    "|Parameter    |  Required/Optional  |  Input                                                            |\n",
    "|-------------|:-------------------:|------------------                                                 |\n",
    "|service      |     Required        |      WMS                                                          |\n",
    "|version      |     Required        |  `1.1.1**`, `1.3.0 (default)`                                     |\n",
    "|request      |     Required        | `GetMap`                                                          |\n",
    "|Layers       |     Required        | `<variable>`                                                      |\n",
    "|crs          |     Required        | `<crs_value>`                                                     |\n",
    "|styles       |     Required        | `<style_name>`                                                    |\n",
    "|format       |     Required        | `image/png `, `image/png;mode=32bit `, `image/gif `, `image/jpeg `|\n",
    "|bbox         |     Required        | `<ymin,xmin,ymax,xmax>`                                           |\n",
    "|width        |     Required        | Image width in pixels                                             |\n",
    "|height       |     Required        | Image height in pixels                                            |\n",
    "|colorscalerange |  Optional        | `<min,max>`                                                       |\n",
    "|transparent  |     Optional        | True, False                                                       |\n",
    "|time         |     Optional        | `<time_value>`                                                    |\n",
    "\n",
    "\n",
    "\n",
    "\n",
    "\n",
    "`**`**Syntax differences for v1.1.1 GetMap requests:**\n",
    "- Use `srs` in place of `crs`\n",
    "- The order of `bbox` values is: `<xmin,ymin,xmax,ymax>`\n",
    "\n",
    "\n",
    "<br>"
   ]
  },
  {
   "cell_type": "markdown",
   "metadata": {},
   "source": [
    "### The above parameters can all be found within the `GetCapabilities` request.\n",
    "\n",
    "<img src=\"./images/threddsWMS4.png\">\n",
    "\n",
    "\n",
    "> **GetMap request example:**\n",
    "\n",
    "> [http://dapds00.nci.org.au/thredds/wms/rs0/tiles/EPSG3577/LS8_OLI_TIRS_NBAR/LS8_OLI_TIRS_NBAR_3577_-10_-28_2013.nc?<br/>\n",
    "service=WMS&<br/>\n",
    "version=1.3.0&<br/>\n",
    "request=GetMap&<br/>\n",
    "Layers=band_2&<br/>\n",
    "crs=EPSG:4326&<br/>\n",
    "styles=boxfill/rainbow&<br/>\n",
    "format=image/png&<br/>\n",
    "colorscalerange=0,2000&<br/>\n",
    "bbox=-25.58404616639011,121.92340149978914,-24.62761795684223,122.99839880914949&<br/>\n",
    "width=1000&<br/>\n",
    "height=1000&<br/>\n",
    "transparent=true&<br/>\n",
    "time=2013-10-17T01:46:46.702Z<br/>\n",
    "](http://dapds00.nci.org.au/thredds/wms/rs0/tiles/EPSG3577/LS8_OLI_TIRS_NBAR/LS8_OLI_TIRS_NBAR_3577_-10_-28_2013.nc?service=WMS&version=1.3.0&request=GetMap&Layers=band_2&crs=EPSG:4326&styles=boxfill/rainbow&format=image/png&colorscalerange=0,2000&bbox=-25.58404616639011,121.92340149978914,-24.62761795684223,122.99839880914949&width=1000&height=1000&transparent=true&time=2013-10-17T01:46:46.702Z)\n",
    "\n",
    "\n",
    "### Once complete, the `GetMap` URL can be tested in a web browser. If the URL is correctly form, the requested map will be displayed. \n",
    "\n",
    "<img src=\"./images/threddsWMS5.png\" width=600>"
   ]
  },
  {
   "cell_type": "markdown",
   "metadata": {},
   "source": [
    "<br>\n",
    "<br>\n",
    "<br>\n",
    "\n",
    "\n",
    "--------\n",
    "**For more information on OGC standards specifications (WMS, WCS) and ncWMS:** <br \\>\n",
    "http://www.opengeospatial.org/standards/wms <br \\>\n",
    "http://www.opengeospatial.org/standards/wcs <br \\>\n",
    "http://www.resc.rdg.ac.uk/trac/ncWMS/ <br \\>\n"
   ]
  }
 ],
 "metadata": {
  "anaconda-cloud": {},
  "kernelspec": {
   "display_name": "Python [default]",
   "language": "python",
   "name": "python2"
  },
  "language_info": {
   "codemirror_mode": {
    "name": "ipython",
    "version": 2
   },
   "file_extension": ".py",
   "mimetype": "text/x-python",
   "name": "python",
   "nbconvert_exporter": "python",
   "pygments_lexer": "ipython2",
   "version": "2.7.12"
  }
 },
 "nbformat": 4,
 "nbformat_minor": 0
}
