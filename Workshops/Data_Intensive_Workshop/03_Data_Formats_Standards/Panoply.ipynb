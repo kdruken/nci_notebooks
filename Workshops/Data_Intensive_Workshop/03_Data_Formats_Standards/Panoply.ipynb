{
 "cells": [
  {
   "cell_type": "markdown",
   "metadata": {},
   "source": [
    "<img src=\"http://nci.org.au/wp-content/themes/nci/img/img-logo-large.png\", width=400>\n",
    "\n",
    "-------\n",
    "# Panoply \n",
    "**Version: 4.4.3** \n",
    "\n",
    "-----\n",
    "\n",
    "### In this notebook:\n",
    "\n",
    "- How to use NASA's data viewer [Panoply](http://www.giss.nasa.gov/tools/panoply/) to view file contents and metadata information \n",
    "- How to use Panoply for quick and easy visualisation of netCDF file contents\n",
    "\n",
    "\n",
    "\n",
    "#### The following material uses Geoscience Australia's Landsat 8 Data Collection which is available under the Create Commons License 4.0 through NCI's THREDDS Data Server. For more information on the collection and licensing, please [click here](http://geonetwork.nci.org.au/geonetwork/srv/eng/catalog.search#/metadata/f6600_8228_7170_1486). \n",
    "\n",
    "---------\n",
    "\n",
    "<br>\n",
    "\n"
   ]
  },
  {
   "cell_type": "markdown",
   "metadata": {},
   "source": [
    "### Opening a file"
   ]
  },
  {
   "cell_type": "markdown",
   "metadata": {},
   "source": [
    "1. To load local file go to 'File --> Open' \n",
    "\n",
    "    (Or to load using OPeNDAP: > File > Open Remote Dataset...)\n",
    "    \n",
    "    <img src=\"./images/panoply1.png\">\n",
    "    ```  ```\n",
    "2. Select the file or enter an OPeNDAP URL:\n",
    "\n",
    "    <img src=\"./images/panoply2.png\">\n",
    "    ``` ```\n",
    "3. File contents should now be visible. File metadata will be displayed in right panel when clicking on each item in the left.  \n",
    "\n",
    "    <img src=\"./images/panoply3.png\">\n",
    "    ``` ```\n",
    "\n"
   ]
  },
  {
   "cell_type": "markdown",
   "metadata": {},
   "source": [
    "### Plotting "
   ]
  },
  {
   "cell_type": "markdown",
   "metadata": {
    "collapsed": true
   },
   "source": [
    "1. To plot data, double-click or right-click on the variable of interest. \n",
    "\n",
    "    <img src=\"./images/panoply5.png\">\n",
    "    ``` ```\n",
    "    \n",
    "2. Select **Create georeferenced** to test that data can be projected correctly. Click **Create**. \n",
    "\n",
    "    <img src=\"./images/panoply6.png\">\n",
    "    ``` ```\n",
    "\n",
    "3. A new window will open and display the plot. Use the zoom options (or right click) to enlarge area of interest. \n",
    "\n",
    "    <img src=\"./images/panoply7.png\">\n",
    "    ```  ```\n",
    "    \n",
    "    <img src=\"./images/panoply8.png\">"
   ]
  }
 ],
 "metadata": {
  "kernelspec": {
   "display_name": "Python [default]",
   "language": "python",
   "name": "python2"
  },
  "language_info": {
   "codemirror_mode": {
    "name": "ipython",
    "version": 2
   },
   "file_extension": ".py",
   "mimetype": "text/x-python",
   "name": "python",
   "nbconvert_exporter": "python",
   "pygments_lexer": "ipython2",
   "version": "2.7.12"
  }
 },
 "nbformat": 4,
 "nbformat_minor": 0
}
