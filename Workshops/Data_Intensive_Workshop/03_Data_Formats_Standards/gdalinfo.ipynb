{
 "cells": [
  {
   "cell_type": "markdown",
   "metadata": {},
   "source": [
    "<img src=\"http://nci.org.au/wp-content/themes/nci/img/img-logo-large.png\", width=400>\n",
    "\n",
    "-------\n",
    "# Using the GDAL library with NetCDF files\n",
    "**Version: 1.11.1** \n",
    "\n",
    "-----\n",
    "\n",
    "### In this notebook:\n",
    "\n",
    "- How to use GDAL to view file contents and metadata information \n",
    "\n",
    "\n",
    "\n",
    "#### The following material uses Geoscience Australia's Landsat 8 Data Collection which is available under the Create Commons License 4.0 through NCI's THREDDS Data Server. For more information on the collection and licensing, please [click here](http://geonetwork.nci.org.au/geonetwork/srv/eng/catalog.search#/metadata/f6600_8228_7170_1486). \n",
    "\n",
    "---------\n",
    "\n",
    "<br>\n",
    "\n"
   ]
  },
  {
   "cell_type": "markdown",
   "metadata": {},
   "source": [
    "### Load the GDAL library \n",
    "\n",
    "```\n",
    "$ module load gdal/1.11.1\n",
    "```"
   ]
  },
  {
   "cell_type": "markdown",
   "metadata": {},
   "source": [
    "## The `gdalinfo` command"
   ]
  },
  {
   "cell_type": "markdown",
   "metadata": {},
   "source": [
    "### To view information on file contents, use `gdalinfo` followed by the file path\n",
    "\n",
    "```\n",
    "$ gdalinfo <file> \n",
    "```"
   ]
  },
  {
   "cell_type": "markdown",
   "metadata": {},
   "source": [
    "<img src=\"./images/gdal1.png\">\n",
    "\n",
    "This will display the top-level (or global) metadata for the file along with the subdatasets and coordinate reference system information. "
   ]
  },
  {
   "cell_type": "markdown",
   "metadata": {},
   "source": [
    "### Read and display subdataset metadata contents"
   ]
  },
  {
   "cell_type": "markdown",
   "metadata": {},
   "source": [
    "<img src=\"./images/gdal2.png\">"
   ]
  },
  {
   "cell_type": "markdown",
   "metadata": {},
   "source": [
    "### \n",
    "\n",
    "**Note**: For netCDF and HDF files, this will typically be empty until selecting a subdataset (example below). "
   ]
  },
  {
   "cell_type": "markdown",
   "metadata": {},
   "source": [
    "To read the subdataset contents (in this case one of the netCDF variables): \n",
    "\n",
    "```\n",
    "$ gdalinfo NETCDF:<file>:<subdataset>\n",
    "```\n",
    "\n",
    "This will display the metadata of that subdataset or variable and the coordinate reference system (CRS) information (if included). \n",
    "\n",
    "**Note:** If CRS information is included within the file but not displayed, the GDAL library is not properly understanding the projection information. Projection information needs to be reformatted. "
   ]
  },
  {
   "cell_type": "markdown",
   "metadata": {},
   "source": [
    "<img src=\"./images/gdal3.png\">"
   ]
  }
 ],
 "metadata": {
  "anaconda-cloud": {},
  "kernelspec": {
   "display_name": "Python [default]",
   "language": "python",
   "name": "python2"
  },
  "language_info": {
   "codemirror_mode": {
    "name": "ipython",
    "version": 2
   },
   "file_extension": ".py",
   "mimetype": "text/x-python",
   "name": "python",
   "nbconvert_exporter": "python",
   "pygments_lexer": "ipython2",
   "version": "2.7.12"
  }
 },
 "nbformat": 4,
 "nbformat_minor": 0
}
