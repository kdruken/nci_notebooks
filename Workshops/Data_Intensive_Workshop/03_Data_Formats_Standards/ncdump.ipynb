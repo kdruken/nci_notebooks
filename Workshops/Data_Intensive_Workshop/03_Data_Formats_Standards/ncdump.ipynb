{
 "cells": [
  {
   "cell_type": "markdown",
   "metadata": {},
   "source": [
    "<img src=\"http://nci.org.au/wp-content/themes/nci/img/img-logo-large.png\", width=400>\n",
    "\n",
    "-------\n",
    "# Using NetCDF command line tool \"ncdump\" \n",
    "**NetCDF Library Version: 4.3.3.1**\n",
    "\n",
    "-----\n",
    "\n",
    "### In this notebook:\n",
    "\n",
    "- How to use the NetCDF library command line tool \"ncdump\" to view file contents and metadata information\n",
    "\n",
    "\n",
    "\n",
    "#### The following material uses Geoscience Australia's Landsat 8 Data Collection which is available under the Create Commons License 4.0 through NCI's THREDDS Data Server. For more information on the collection and licensing, please [click here](http://geonetwork.nci.org.au/geonetwork/srv/eng/catalog.search#/metadata/f6600_8228_7170_1486). \n",
    "\n",
    "---------\n",
    "\n",
    "<br>\n",
    "\n"
   ]
  },
  {
   "cell_type": "markdown",
   "metadata": {},
   "source": [
    "### Load netCDF module\n",
    "Load the netCDF module: \n",
    "```\n",
    "$ module load netcdf/4.3.3.1\n",
    "```\n",
    "   "
   ]
  },
  {
   "cell_type": "markdown",
   "metadata": {},
   "source": [
    "### Use the '-h' option to view the file header information\n",
    "\n",
    "Use the ‘-h’ option to view the netcdf file header information (file can be called by local path name or remotely using the OPeNDAP URL): \n",
    "\n",
    "```\n",
    "$ ncdump -h <file>\n",
    "```\n",
    "\n",
    "<img src=\"./images/ncdump1.png\">\n",
    "\n",
    "\n",
    "This will display the: (1) file dimensions, (2) variables and variable metadata, and (3) global metadata. \n",
    "\n",
    "\n",
    "<img src=\"./images/ncdump2.png\">"
   ]
  },
  {
   "cell_type": "markdown",
   "metadata": {},
   "source": [
    "### Use the '-hs' to see additional file attributes such as the chunking and compression information"
   ]
  },
  {
   "cell_type": "markdown",
   "metadata": {},
   "source": [
    "### Additional useful options:\n",
    "\n",
    "```\n",
    "$ ncdump\n",
    "\n",
    "ncdump [-c|-h] [-v ...] [[-b|-f] [c|f]] [-l len] [-n name] [-p n[,n]] [-k] [-x] [-s] [-t|-i] [-g ...] [-w] file\n",
    "  [-c]             Coordinate variable data and header information\n",
    "  [-h]             Header information only, no data\n",
    "  [-v var1[,...]]  Data for variable(s) <var1>,... only\n",
    "  [-b [c|f]]       Brief annotations for C or Fortran indices in data\n",
    "  [-f [c|f]]       Full annotations for C or Fortran indices in data\n",
    "  [-l len]         Line length maximum in data section (default 80)\n",
    "  [-n name]        Name for netCDF (default derived from file name)\n",
    "  [-p n[,n]]       Display floating-point values with less precision\n",
    "  [-k]             Output kind of netCDF file\n",
    "  [-s]             Output special (virtual) attributes\n",
    "  [-t]             Output time data as date-time strings\n",
    "  [-i]             Output time data as date-time strings with ISO-8601 'T' separator\n",
    "  [-g grp1[,...]]  Data and metadata for group(s) <grp1>,... only\n",
    "  [-w]             With client-side caching of variables for DAP URLs\n",
    "  [-x]             Output XML (NcML) instead of CDL\n",
    "  file             Name of netCDF file (or URL if DAP access enabled)\n",
    "\n",
    "```"
   ]
  }
 ],
 "metadata": {
  "anaconda-cloud": {},
  "kernelspec": {
   "display_name": "Python [default]",
   "language": "python",
   "name": "python2"
  },
  "language_info": {
   "codemirror_mode": {
    "name": "ipython",
    "version": 2
   },
   "file_extension": ".py",
   "mimetype": "text/x-python",
   "name": "python",
   "nbconvert_exporter": "python",
   "pygments_lexer": "ipython2",
   "version": "2.7.12"
  }
 },
 "nbformat": 4,
 "nbformat_minor": 0
}
